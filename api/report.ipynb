{
 "cells": [
  {
   "cell_type": "code",
   "execution_count": 38,
   "source": [
    "import requests\n",
    "import json"
   ],
   "outputs": [],
   "metadata": {}
  },
  {
   "cell_type": "code",
   "execution_count": 41,
   "source": [
    "stock_api = \"http://localhost:8001/api/spy\"\n",
    "economics_api = \"http://localhost:8001/api/economics\"\n",
    "emissions_api = \"http://localhost:8001/api/emissions\"\n",
    "covid_api = \"http://localhost:8001/api/covid\"\n",
    "\n",
    "headers = {\n",
    "    'Content-Type': 'application/json'\n",
    "}\n"
   ],
   "outputs": [],
   "metadata": {}
  },
  {
   "cell_type": "code",
   "execution_count": 40,
   "source": [
    "stocks = requests.get(stock_api, headers=headers)\n"
   ],
   "outputs": [],
   "metadata": {}
  },
  {
   "cell_type": "code",
   "execution_count": 42,
   "source": [
    "economic_indicators = requests.get(economics_api, headers=headers)"
   ],
   "outputs": [],
   "metadata": {}
  },
  {
   "cell_type": "code",
   "execution_count": 43,
   "source": [
    "emissions = requests.get(emissions_api, headers=headers)"
   ],
   "outputs": [],
   "metadata": {}
  },
  {
   "cell_type": "code",
   "execution_count": 44,
   "source": [
    "covid = requests.get(covid_api, headers=headers)"
   ],
   "outputs": [],
   "metadata": {}
  }
 ],
 "metadata": {
  "orig_nbformat": 4,
  "language_info": {
   "name": "python",
   "version": "3.9.5",
   "mimetype": "text/x-python",
   "codemirror_mode": {
    "name": "ipython",
    "version": 3
   },
   "pygments_lexer": "ipython3",
   "nbconvert_exporter": "python",
   "file_extension": ".py"
  },
  "kernelspec": {
   "name": "python3",
   "display_name": "Python 3.9.5 64-bit ('base': conda)"
  },
  "interpreter": {
   "hash": "5419125ad28e272f1a9ac2ad0d4471a304613b6e42b4e9547af325d5ff0019ff"
  }
 },
 "nbformat": 4,
 "nbformat_minor": 2
}